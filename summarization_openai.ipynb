{
 "cells": [
  {
   "cell_type": "markdown",
   "id": "55bc314a-f1a7-4ddd-96ec-12a6ac059776",
   "metadata": {},
   "source": [
    "# Imports"
   ]
  },
  {
   "cell_type": "code",
   "execution_count": 1,
   "id": "3cb82cdc-4e8a-4267-af69-1d3edc4cc279",
   "metadata": {},
   "outputs": [],
   "source": [
    "import os, requests\n",
    "from dotenv import load_dotenv\n",
    "from bs4 import BeautifulSoup\n",
    "from IPython.display import Markdown, display\n",
    "from openai import OpenAI"
   ]
  },
  {
   "cell_type": "markdown",
   "id": "035f5a12-05cd-4841-b541-b034179dcbae",
   "metadata": {},
   "source": [
    "# Connecting to OpenAI"
   ]
  },
  {
   "cell_type": "code",
   "execution_count": 2,
   "id": "289e734a-ed9a-41fb-8cae-aaae9bb626e7",
   "metadata": {},
   "outputs": [],
   "source": [
    "# Loading environment variables in .env file\n",
    "load_dotenv()\n",
    "api_key = os.getenv(\"OPENAI_API_KEY\")"
   ]
  },
  {
   "cell_type": "code",
   "execution_count": 3,
   "id": "f102e56b-1879-4bf9-a386-42a7d8b4a029",
   "metadata": {},
   "outputs": [
    {
     "name": "stdout",
     "output_type": "stream",
     "text": [
      "The API key is correct and ready to be used!\n"
     ]
    }
   ],
   "source": [
    "# Checking the api key\n",
    "\n",
    "if not api_key:\n",
    "    print(\"No API key was found. Please headover to the troubleshooting.ipynb\")\n",
    "elif api_key[:8] != \"sk-proj-\":\n",
    "    print(\"An API key was found, but it doesn't like the correct API key. Check the key.\")\n",
    "elif api_key.strip() != api_key:\n",
    "    print(\"The API key has spaces between the characters. Please, correct it.\")\n",
    "else:\n",
    "    print(\"The API key is correct and ready to be used!\")"
   ]
  },
  {
   "cell_type": "code",
   "execution_count": 4,
   "id": "e6849040-6a53-4e4f-9a55-1d54841e3015",
   "metadata": {},
   "outputs": [],
   "source": [
    "# Creating a class to simulate a webpage\n",
    "class Website:\n",
    "    \"\"\"\n",
    "    A utility class to represent a Website.\n",
    "    \"\"\"\n",
    "    url:str\n",
    "    title:str\n",
    "    text:str\n",
    "\n",
    "    def __init__(self, url):\n",
    "        \"\"\"\n",
    "        Create the Website object from the given url using the BeautifulSoup library\n",
    "        \"\"\"\n",
    "        self.url = url\n",
    "        response = requests.get(url)\n",
    "        soup = BeautifulSoup(response.content, \"html.parser\")\n",
    "        self.title = soup.title.string if soup.title else \"No title found\"\n",
    "\n",
    "        for irrelevant in soup.body([\"script\",\"style\",\"img\", \"input\"]):\n",
    "            irrelevant.decompose()\n",
    "        self.text = soup.body.get_text(separator=\"\\n\", strip=True)"
   ]
  },
  {
   "cell_type": "code",
   "execution_count": 5,
   "id": "6c09059e-c3b5-4b55-89de-9588ed4e4818",
   "metadata": {},
   "outputs": [],
   "source": [
    "# system prompt\n",
    "system_prompt = \"You are an assistant that analyzes the contents of a website \\\n",
    "and provides short summary, ignoring text that might be navigation related. \\\n",
    "Respond in markdown.\""
   ]
  },
  {
   "cell_type": "code",
   "execution_count": 6,
   "id": "a893813b-a107-4ef1-92f4-2eb1d6587022",
   "metadata": {},
   "outputs": [],
   "source": [
    "# Function that writes a user prompt\n",
    "def user_prompt(website):\n",
    "    user_prompt = f\"You are looking at a website titled {website.title}\"\n",
    "    user_prompt += \"The contents of this website is as follows; \\\n",
    "    please provide a short summary of this website in markdown. \\\n",
    "    If it includes news or announcement, then, summarize these too.\\n\\n\"\n",
    "    user_prompt += website.text\n",
    "    return user_prompt"
   ]
  },
  {
   "cell_type": "code",
   "execution_count": 7,
   "id": "7234b6c4-5511-40e6-8534-d7c0f225d784",
   "metadata": {},
   "outputs": [],
   "source": [
    "# function to make API requests\n",
    "def messages_for(website):\n",
    "    return [{\"role\":\"system\", \"content\":system_prompt},\n",
    "            {\"role\":\"user\",\"content\":user_prompt(website)}\n",
    "    ]"
   ]
  },
  {
   "cell_type": "code",
   "execution_count": 8,
   "id": "69c4ac1d-bac1-469c-841e-af8fc8b712b9",
   "metadata": {},
   "outputs": [],
   "source": [
    "openai = OpenAI()"
   ]
  },
  {
   "cell_type": "code",
   "execution_count": 9,
   "id": "9fb79a79-25fa-42f0-9547-6f6da3b46ee2",
   "metadata": {},
   "outputs": [],
   "source": [
    "def summarize(url):\n",
    "    website = Website(url)\n",
    "    responses = openai.chat.completions.create(\n",
    "        model=\"gpt-4.1-mini\",\n",
    "        messages = messages_for(website)\n",
    "    )  \n",
    "    return responses.choices[0].message.content"
   ]
  },
  {
   "cell_type": "code",
   "execution_count": 10,
   "id": "a236e31c-5ee4-425a-9dc6-82682f4dbe5d",
   "metadata": {},
   "outputs": [],
   "source": [
    "# Function to display it better\n",
    "def display_summary(url):\n",
    "    summary = summarize(url)\n",
    "    display(Markdown(summary))"
   ]
  },
  {
   "cell_type": "code",
   "execution_count": 12,
   "id": "dd481f00-1c76-4885-b3d5-277f2439ccf8",
   "metadata": {},
   "outputs": [
    {
     "name": "stdin",
     "output_type": "stream",
     "text": [
      "Type the first name of the NPC, boss, etc who you want to search about:\n",
      " Malenia\n"
     ]
    }
   ],
   "source": [
    "# Function to take the name of the NPCs, bosses, etc (in ELden Ring)\n",
    "name = input(\"Type the first name of the NPC, boss, etc who you want to search about:\\n\")"
   ]
  },
  {
   "cell_type": "code",
   "execution_count": 13,
   "id": "eca4effd-3f37-4df0-a0f1-ed0083b81660",
   "metadata": {},
   "outputs": [
    {
     "data": {
      "text/markdown": [
       "# Summary of \"Malenia Blade of Miquella | Elden Ring Wiki\"\n",
       "\n",
       "This webpage is a comprehensive wiki entry dedicated to Malenia, Blade of Miquella, a notable boss character in the game *Elden Ring*.\n",
       "\n",
       "## Key Content\n",
       "\n",
       "- **Character Overview**: Malenia is a two-phase optional demigod boss located in Elphael, Brace of the Haligtree. She is known for her legendary battle against Starscourge Radahn and her use of Scarlet Rot.\n",
       "\n",
       "- **Boss Fight Details**:\n",
       "  - Health points and damage types for each phase.\n",
       "  - Mechanics such as her healing on hit, vulnerability to status effects like bleed and frost, and the unique stance-breaking requirement for parrying.\n",
       "  - Detailed descriptions of her attacks and strategies to counter them, including notes on dodge timing, effective talismans, weapon choices, and spirit summons.\n",
       "  - Phase 2 introduces scarlet rot-inflicting moves and additional complex attacks like the Scarlet Aeonia and Phantom Spirits.\n",
       "\n",
       "- **Lore and Background**:\n",
       "  - Malenia is the twin sister of Miquella and an Empyrean cursed with Scarlet Rot.\n",
       "  - Her lore includes her tragic fate and her resilience, as well as related items like Malenia's Great Rune and prosthesis.\n",
       "  - She is voiced by Pippa Bennett-Warner.\n",
       "\n",
       "- **Player Community Insights**:\n",
       "  - The page contains a large section of user comments discussing the fight’s difficulty, strategies, and personal opinions.\n",
       "  - Comments reflect a diverse view—some find her challenging and iconic, others criticize certain attack design and randomness.\n",
       "  - Common topics include the infamous Waterfowl Dance attack, her healing mechanic, and summon strategy.\n",
       "\n",
       "- **Additional Resources**:\n",
       "  - Links to video guides (pending in some cases).\n",
       "  - Extensive lists of related in-game items, talismans, and character dialogue.\n",
       "  - Connection to broader Elden Ring content like maps, NPCs, and other bosses.\n",
       "\n",
       "## News or Announcements\n",
       "\n",
       "No direct news or announcements are present on the page. It serves purely as a detailed informational and strategy guide for Malenia within *Elden Ring*.\n",
       "\n",
       "---\n",
       "\n",
       "This wiki page is a valuable resource for players seeking thorough knowledge and strategies to defeat Malenia, enriched with deep lore, gameplay mechanics, and community input."
      ],
      "text/plain": [
       "<IPython.core.display.Markdown object>"
      ]
     },
     "metadata": {},
     "output_type": "display_data"
    }
   ],
   "source": [
    "# summarizing nes webpage\n",
    "display_summary(\"https://eldenring.wiki.fextralife.com/\" + name)"
   ]
  },
  {
   "cell_type": "code",
   "execution_count": null,
   "id": "1401dff2-1731-4d64-a03a-8c6f7a548ddc",
   "metadata": {},
   "outputs": [],
   "source": []
  }
 ],
 "metadata": {
  "kernelspec": {
   "display_name": "Python 3 (ipykernel)",
   "language": "python",
   "name": "python3"
  },
  "language_info": {
   "codemirror_mode": {
    "name": "ipython",
    "version": 3
   },
   "file_extension": ".py",
   "mimetype": "text/x-python",
   "name": "python",
   "nbconvert_exporter": "python",
   "pygments_lexer": "ipython3",
   "version": "3.12.7"
  }
 },
 "nbformat": 4,
 "nbformat_minor": 5
}
